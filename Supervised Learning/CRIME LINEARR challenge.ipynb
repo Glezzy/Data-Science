{
 "cells": [
  {
   "cell_type": "code",
   "execution_count": 264,
   "metadata": {},
   "outputs": [],
   "source": [
    "import pandas as pd\n",
    "import numpy as np\n",
    "from statsmodels.sandbox.regression.predstd import wls_prediction_std\n",
    "import statsmodels.formula.api as smf\n",
    "import statsmodels.api as sm\n",
    "import statsmodels.stats.stattools as stools\n",
    "import statsmodels.stats as stats\n",
    "from statsmodels.graphics.regressionplots import *\n",
    "from sklearn.model_selection import train_test_split\n",
    "import matplotlib.pyplot as plt\n",
    "import seaborn as sns\n",
    "import sklearn\n",
    "from sklearn import linear_model\n",
    "\n",
    "\n",
    "%matplotlib inline\n",
    "plt.rcParams['figure.figsize'] = (15,5)"
   ]
  },
  {
   "cell_type": "code",
   "execution_count": 152,
   "metadata": {},
   "outputs": [
    {
     "name": "stdout",
     "output_type": "stream",
     "text": [
      "               City  Population  Violent crime  \\\n",
      "0            Albany     51645.0           40.0   \n",
      "1             Amity      1624.0            1.0   \n",
      "2           Ashland     20455.0           33.0   \n",
      "3           Astoria      9543.0           33.0   \n",
      "4            Athena      1144.0            1.0   \n",
      "5         Aumsville      3738.0            6.0   \n",
      "6        Baker City      9660.0           27.0   \n",
      "7            Bandon      3039.0            1.0   \n",
      "8             Banks      1862.0            4.0   \n",
      "9         Beaverton     93551.0          124.0   \n",
      "10             Bend     79926.0          182.0   \n",
      "11      Black Butte         NaN            0.0   \n",
      "12         Boardman      3369.0            8.0   \n",
      "13        Brookings      6313.0            2.0   \n",
      "14            Burns      2706.0            1.0   \n",
      "15            Canby     16031.0           13.0   \n",
      "16     Cannon Beach      1692.0            1.0   \n",
      "17          Carlton      2022.0            4.0   \n",
      "18    Central Point     17485.0           33.0   \n",
      "19       Clatskanie      1726.0            0.0   \n",
      "20           Coburg      1043.0            0.0   \n",
      "21    Columbia City      1938.0            0.0   \n",
      "22           Condon       722.0            0.0   \n",
      "23         Coos Bay     15816.0           60.0   \n",
      "24         Coquille      3826.0            0.0   \n",
      "25        Cornelius     12231.0           18.0   \n",
      "26        Corvallis     55218.0           64.0   \n",
      "27    Cottage Grove      9795.0           18.0   \n",
      "28           Dallas     14803.0           41.0   \n",
      "29      Eagle Point      8669.0           24.0   \n",
      "..              ...         ...            ...   \n",
      "80          Rainier      1887.0            2.0   \n",
      "81          Redmond     27153.0           87.0   \n",
      "82   Rockaway Beach      1313.0            2.0   \n",
      "83      Rogue River      2173.0            2.0   \n",
      "84            Salem    158234.0          520.0   \n",
      "85        Scappoose      6677.0           11.0   \n",
      "86          Seaside      6475.0            8.0   \n",
      "87         Sherwood     18932.0            8.0   \n",
      "88        Silverton      9380.0           10.0   \n",
      "89      Springfield     60024.0           98.0   \n",
      "90        Stanfield      2058.0            2.0   \n",
      "91          Stayton      7733.0           23.0   \n",
      "92       St. Helens     12917.0            9.0   \n",
      "93         Sunriver         NaN            2.0   \n",
      "94       Sweet Home      9035.0           10.0   \n",
      "95           Talent      6191.0            7.0   \n",
      "96       The Dalles     13831.0           14.0   \n",
      "97           Tigard     50311.0           57.0   \n",
      "98        Tillamook      4932.0           10.0   \n",
      "99           Toledo      3461.0           16.0   \n",
      "100       Troutdale     16566.0           22.0   \n",
      "101        Tualatin     26925.0           24.0   \n",
      "102          Turner      1896.0            1.0   \n",
      "103        Umatilla      7040.0           13.0   \n",
      "104       Warrenton      5146.0            0.0   \n",
      "105       West Linn     25744.0            6.0   \n",
      "106     Wilsonville     20819.0           17.0   \n",
      "107        Woodburn     24263.0           82.0   \n",
      "108         Yamhill      1040.0            0.0   \n",
      "109             NaN         NaN            NaN   \n",
      "\n",
      "     Murder and nonnegligent manslaughter  Rape (revised definition)1  \\\n",
      "0                                     0.0                         NaN   \n",
      "1                                     0.0                         1.0   \n",
      "2                                     0.0                         5.0   \n",
      "3                                     0.0                         NaN   \n",
      "4                                     0.0                         1.0   \n",
      "5                                     0.0                         0.0   \n",
      "6                                     0.0                         NaN   \n",
      "7                                     0.0                         NaN   \n",
      "8                                     0.0                         NaN   \n",
      "9                                     1.0                         NaN   \n",
      "10                                    1.0                        21.0   \n",
      "11                                    0.0                         0.0   \n",
      "12                                    0.0                         3.0   \n",
      "13                                    0.0                         NaN   \n",
      "14                                    0.0                         NaN   \n",
      "15                                    0.0                         NaN   \n",
      "16                                    0.0                         NaN   \n",
      "17                                    0.0                         3.0   \n",
      "18                                    0.0                         5.0   \n",
      "19                                    0.0                         NaN   \n",
      "20                                    0.0                         NaN   \n",
      "21                                    0.0                         0.0   \n",
      "22                                    0.0                         NaN   \n",
      "23                                    1.0                         NaN   \n",
      "24                                    0.0                         NaN   \n",
      "25                                    0.0                         NaN   \n",
      "26                                    0.0                        10.0   \n",
      "27                                    1.0                         NaN   \n",
      "28                                    0.0                         6.0   \n",
      "29                                    0.0                         4.0   \n",
      "..                                    ...                         ...   \n",
      "80                                    0.0                         NaN   \n",
      "81                                    0.0                        11.0   \n",
      "82                                    0.0                         0.0   \n",
      "83                                    0.0                         0.0   \n",
      "84                                    7.0                        47.0   \n",
      "85                                    0.0                         NaN   \n",
      "86                                    0.0                         NaN   \n",
      "87                                    0.0                         NaN   \n",
      "88                                    1.0                         2.0   \n",
      "89                                    2.0                        14.0   \n",
      "90                                    0.0                         1.0   \n",
      "91                                    0.0                         3.0   \n",
      "92                                    0.0                         NaN   \n",
      "93                                    0.0                         0.0   \n",
      "94                                    0.0                         NaN   \n",
      "95                                    0.0                         2.0   \n",
      "96                                    0.0                         NaN   \n",
      "97                                    0.0                         NaN   \n",
      "98                                    0.0                         1.0   \n",
      "99                                    1.0                         2.0   \n",
      "100                                   0.0                         NaN   \n",
      "101                                   0.0                         NaN   \n",
      "102                                   1.0                         0.0   \n",
      "103                                   0.0                         2.0   \n",
      "104                                   0.0                         NaN   \n",
      "105                                   0.0                         NaN   \n",
      "106                                   0.0                         NaN   \n",
      "107                                   1.0                         7.0   \n",
      "108                                   0.0                         0.0   \n",
      "109                                   NaN                         NaN   \n",
      "\n",
      "     Rape (legacy definition)2  Robbery  Aggravated assault  Property crime  \\\n",
      "0                          8.0     27.0                 5.0          2019.0   \n",
      "1                          NaN      0.0                 0.0            26.0   \n",
      "2                          NaN      7.0                21.0           674.0   \n",
      "3                          3.0      1.0                29.0           445.0   \n",
      "4                          NaN      0.0                 0.0            25.0   \n",
      "5                          NaN      1.0                 5.0            82.0   \n",
      "6                          1.0      2.0                24.0           370.0   \n",
      "7                          0.0      1.0                 0.0            88.0   \n",
      "8                          0.0      0.0                 4.0            26.0   \n",
      "9                         20.0     22.0                81.0          1471.0   \n",
      "10                         NaN     22.0               138.0          2267.0   \n",
      "11                         NaN      0.0                 0.0             5.0   \n",
      "12                         NaN      0.0                 5.0            84.0   \n",
      "13                         0.0      1.0                 1.0            55.0   \n",
      "14                         0.0      0.0                 1.0            66.0   \n",
      "15                         4.0      2.0                 7.0           298.0   \n",
      "16                         0.0      0.0                 1.0            38.0   \n",
      "17                         NaN      0.0                 1.0            18.0   \n",
      "18                         NaN      4.0                24.0           601.0   \n",
      "19                         0.0      0.0                 0.0            51.0   \n",
      "20                         0.0      0.0                 0.0            15.0   \n",
      "21                         NaN      0.0                 0.0            11.0   \n",
      "22                         0.0      0.0                 0.0             2.0   \n",
      "23                         3.0      6.0                50.0           965.0   \n",
      "24                         0.0      0.0                 0.0            67.0   \n",
      "25                         4.0      9.0                 5.0           351.0   \n",
      "26                         NaN     16.0                38.0          1587.0   \n",
      "27                         0.0      5.0                12.0           509.0   \n",
      "28                         NaN      4.0                31.0           315.0   \n",
      "29                         NaN      8.0                12.0           344.0   \n",
      "..                         ...      ...                 ...             ...   \n",
      "80                         0.0      1.0                 1.0            43.0   \n",
      "81                         NaN     15.0                61.0          1067.0   \n",
      "82                         NaN      0.0                 2.0            48.0   \n",
      "83                         NaN      0.0                 2.0            45.0   \n",
      "84                         NaN    138.0               328.0          6782.0   \n",
      "85                         0.0      1.0                10.0            82.0   \n",
      "86                         2.0      4.0                 2.0           554.0   \n",
      "87                         2.0      2.0                 4.0           301.0   \n",
      "88                         NaN      3.0                 4.0           207.0   \n",
      "89                         NaN     32.0                50.0          3198.0   \n",
      "90                         NaN      0.0                 1.0            29.0   \n",
      "91                         NaN      5.0                15.0           337.0   \n",
      "92                         5.0      2.0                 2.0           353.0   \n",
      "93                         NaN      0.0                 2.0            80.0   \n",
      "94                         1.0      4.0                 5.0           501.0   \n",
      "95                         NaN      0.0                 5.0           131.0   \n",
      "96                         1.0      6.0                 7.0           692.0   \n",
      "97                        14.0     23.0                20.0          1626.0   \n",
      "98                         NaN      4.0                 5.0           177.0   \n",
      "99                         NaN      2.0                11.0           145.0   \n",
      "100                        3.0      9.0                10.0           509.0   \n",
      "101                        7.0      9.0                 8.0           783.0   \n",
      "102                        NaN      0.0                 0.0            24.0   \n",
      "103                        NaN      0.0                11.0           107.0   \n",
      "104                        0.0      0.0                 0.0           167.0   \n",
      "105                        3.0      0.0                 3.0           279.0   \n",
      "106                        6.0      6.0                 5.0           461.0   \n",
      "107                        NaN     28.0                46.0           733.0   \n",
      "108                        NaN      0.0                 0.0            16.0   \n",
      "109                        NaN      NaN                 NaN             NaN   \n",
      "\n",
      "     Burglary  Larceny-theft  Motor vehicle theft  Arson  \n",
      "0       252.0         1625.0                142.0    6.0  \n",
      "1         1.0           25.0                  0.0    1.0  \n",
      "2        76.0          585.0                 13.0   10.0  \n",
      "3        89.0          324.0                 32.0    3.0  \n",
      "4         5.0           19.0                  1.0    0.0  \n",
      "5        20.0           59.0                  3.0    0.0  \n",
      "6        68.0          293.0                  9.0    5.0  \n",
      "7        24.0           59.0                  5.0    1.0  \n",
      "8         5.0           17.0                  4.0    1.0  \n",
      "9       175.0         1213.0                 83.0   15.0  \n",
      "10      267.0         1913.0                 87.0   39.0  \n",
      "11        0.0            5.0                  0.0    0.0  \n",
      "12       22.0           58.0                  4.0    0.0  \n",
      "13        6.0           43.0                  6.0    0.0  \n",
      "14       19.0           43.0                  4.0    0.0  \n",
      "15       60.0          229.0                  9.0    3.0  \n",
      "16        1.0           35.0                  2.0    0.0  \n",
      "17        3.0           15.0                  0.0    0.0  \n",
      "18       47.0          530.0                 24.0    6.0  \n",
      "19       19.0           28.0                  4.0    0.0  \n",
      "20        5.0            9.0                  1.0    0.0  \n",
      "21        0.0           10.0                  1.0    0.0  \n",
      "22        0.0            2.0                  0.0    0.0  \n",
      "23      166.0          745.0                 54.0    3.0  \n",
      "24       12.0           51.0                  4.0    0.0  \n",
      "25       66.0          271.0                 14.0    1.0  \n",
      "26      195.0         1354.0                 38.0    8.0  \n",
      "27       52.0          436.0                 21.0    0.0  \n",
      "28       51.0          254.0                 10.0    2.0  \n",
      "29       43.0          294.0                  7.0    0.0  \n",
      "..        ...            ...                  ...    ...  \n",
      "80        6.0           33.0                  4.0    0.0  \n",
      "81      157.0          867.0                 43.0   11.0  \n",
      "82       20.0           28.0                  0.0    0.0  \n",
      "83        7.0           33.0                  5.0    0.0  \n",
      "84      983.0         5143.0                656.0   42.0  \n",
      "85       14.0           66.0                  2.0    1.0  \n",
      "86       74.0          465.0                 15.0    1.0  \n",
      "87       31.0          260.0                 10.0    3.0  \n",
      "88       28.0          173.0                  6.0    3.0  \n",
      "89      478.0         2450.0                270.0   25.0  \n",
      "90        6.0           19.0                  4.0    0.0  \n",
      "91       46.0          278.0                 13.0    1.0  \n",
      "92       46.0          291.0                 16.0    3.0  \n",
      "93       16.0           60.0                  4.0    0.0  \n",
      "94       82.0          398.0                 21.0    0.0  \n",
      "95       12.0          115.0                  4.0    1.0  \n",
      "96      141.0          513.0                 38.0    4.0  \n",
      "97      173.0         1384.0                 69.0   10.0  \n",
      "98       23.0          142.0                 12.0    2.0  \n",
      "99       37.0          103.0                  5.0    0.0  \n",
      "100      64.0          396.0                 49.0    5.0  \n",
      "101      88.0          658.0                 37.0    3.0  \n",
      "102       7.0           15.0                  2.0    0.0  \n",
      "103      25.0           70.0                 12.0    1.0  \n",
      "104      25.0          134.0                  8.0    0.0  \n",
      "105      36.0          234.0                  9.0    2.0  \n",
      "106      51.0          374.0                 36.0    2.0  \n",
      "107     100.0          586.0                 47.0    7.0  \n",
      "108       3.0           13.0                  0.0    0.0  \n",
      "109       NaN            NaN                  NaN    NaN  \n",
      "\n",
      "[110 rows x 13 columns]\n"
     ]
    }
   ],
   "source": [
    "crime = pd.read_excel('crime_oregon.xlsx')\n",
    "print(crime)"
   ]
  },
  {
   "cell_type": "code",
   "execution_count": 224,
   "metadata": {},
   "outputs": [],
   "source": [
    "crime = crime.rename(columns={'Property crime': 'Property_crime'})\n",
    "crime = crime.rename(columns={'Rape (revised definition)1':'Rape1'})"
   ]
  },
  {
   "cell_type": "code",
   "execution_count": 244,
   "metadata": {},
   "outputs": [],
   "source": [
    "crime = crime.rename(columns={'Motor vehicle theft':'Motor_Vehicle_theft'})"
   ]
  },
  {
   "cell_type": "code",
   "execution_count": 245,
   "metadata": {},
   "outputs": [],
   "source": [
    "# Property_crime will be our dependent variable. We will find\n",
    "# better parameters than the Thinkful walkthrough."
   ]
  },
  {
   "cell_type": "code",
   "execution_count": 246,
   "metadata": {},
   "outputs": [
    {
     "data": {
      "text/html": [
       "<div>\n",
       "<style scoped>\n",
       "    .dataframe tbody tr th:only-of-type {\n",
       "        vertical-align: middle;\n",
       "    }\n",
       "\n",
       "    .dataframe tbody tr th {\n",
       "        vertical-align: top;\n",
       "    }\n",
       "\n",
       "    .dataframe thead th {\n",
       "        text-align: right;\n",
       "    }\n",
       "</style>\n",
       "<table border=\"1\" class=\"dataframe\">\n",
       "  <thead>\n",
       "    <tr style=\"text-align: right;\">\n",
       "      <th></th>\n",
       "      <th>Population</th>\n",
       "      <th>Violent_crime</th>\n",
       "      <th>Murder and nonnegligent manslaughter</th>\n",
       "      <th>Rape1</th>\n",
       "      <th>Rape (legacy definition)2</th>\n",
       "      <th>Robbery</th>\n",
       "      <th>Aggravated assault</th>\n",
       "      <th>Property_crime</th>\n",
       "      <th>Burglary</th>\n",
       "      <th>Larceny-theft</th>\n",
       "      <th>Motor_Vehicle_theft</th>\n",
       "      <th>Arson</th>\n",
       "    </tr>\n",
       "  </thead>\n",
       "  <tbody>\n",
       "    <tr>\n",
       "      <th>count</th>\n",
       "      <td>109.000000</td>\n",
       "      <td>109.000000</td>\n",
       "      <td>109.000000</td>\n",
       "      <td>109.000000</td>\n",
       "      <td>109.000000</td>\n",
       "      <td>109.000000</td>\n",
       "      <td>109.000000</td>\n",
       "      <td>109.000000</td>\n",
       "      <td>109.000000</td>\n",
       "      <td>109.000000</td>\n",
       "      <td>109.000000</td>\n",
       "      <td>109.000000</td>\n",
       "    </tr>\n",
       "    <tr>\n",
       "      <th>mean</th>\n",
       "      <td>2.121260</td>\n",
       "      <td>40.284404</td>\n",
       "      <td>0.284404</td>\n",
       "      <td>3.091743</td>\n",
       "      <td>2.256881</td>\n",
       "      <td>11.385321</td>\n",
       "      <td>23.266055</td>\n",
       "      <td>626.642202</td>\n",
       "      <td>96.330275</td>\n",
       "      <td>489.908257</td>\n",
       "      <td>40.403670</td>\n",
       "      <td>4.522936</td>\n",
       "    </tr>\n",
       "    <tr>\n",
       "      <th>std</th>\n",
       "      <td>0.386845</td>\n",
       "      <td>97.498062</td>\n",
       "      <td>0.903612</td>\n",
       "      <td>9.173776</td>\n",
       "      <td>6.371818</td>\n",
       "      <td>35.938710</td>\n",
       "      <td>55.356027</td>\n",
       "      <td>1230.803385</td>\n",
       "      <td>207.331014</td>\n",
       "      <td>933.206177</td>\n",
       "      <td>102.996055</td>\n",
       "      <td>9.692109</td>\n",
       "    </tr>\n",
       "    <tr>\n",
       "      <th>min</th>\n",
       "      <td>0.000000</td>\n",
       "      <td>0.000000</td>\n",
       "      <td>0.000000</td>\n",
       "      <td>0.000000</td>\n",
       "      <td>0.000000</td>\n",
       "      <td>0.000000</td>\n",
       "      <td>0.000000</td>\n",
       "      <td>0.000000</td>\n",
       "      <td>0.000000</td>\n",
       "      <td>0.000000</td>\n",
       "      <td>0.000000</td>\n",
       "      <td>0.000000</td>\n",
       "    </tr>\n",
       "    <tr>\n",
       "      <th>25%</th>\n",
       "      <td>2.043009</td>\n",
       "      <td>2.000000</td>\n",
       "      <td>0.000000</td>\n",
       "      <td>0.000000</td>\n",
       "      <td>0.000000</td>\n",
       "      <td>0.000000</td>\n",
       "      <td>1.000000</td>\n",
       "      <td>48.000000</td>\n",
       "      <td>8.000000</td>\n",
       "      <td>33.000000</td>\n",
       "      <td>3.000000</td>\n",
       "      <td>0.000000</td>\n",
       "    </tr>\n",
       "    <tr>\n",
       "      <th>50%</th>\n",
       "      <td>2.199648</td>\n",
       "      <td>10.000000</td>\n",
       "      <td>0.000000</td>\n",
       "      <td>0.000000</td>\n",
       "      <td>0.000000</td>\n",
       "      <td>1.000000</td>\n",
       "      <td>5.000000</td>\n",
       "      <td>268.000000</td>\n",
       "      <td>37.000000</td>\n",
       "      <td>207.000000</td>\n",
       "      <td>9.000000</td>\n",
       "      <td>1.000000</td>\n",
       "    </tr>\n",
       "    <tr>\n",
       "      <th>75%</th>\n",
       "      <td>2.279224</td>\n",
       "      <td>33.000000</td>\n",
       "      <td>0.000000</td>\n",
       "      <td>2.000000</td>\n",
       "      <td>2.000000</td>\n",
       "      <td>7.000000</td>\n",
       "      <td>21.000000</td>\n",
       "      <td>602.000000</td>\n",
       "      <td>89.000000</td>\n",
       "      <td>497.000000</td>\n",
       "      <td>32.000000</td>\n",
       "      <td>4.000000</td>\n",
       "    </tr>\n",
       "    <tr>\n",
       "      <th>max</th>\n",
       "      <td>2.482696</td>\n",
       "      <td>611.000000</td>\n",
       "      <td>7.000000</td>\n",
       "      <td>68.000000</td>\n",
       "      <td>52.000000</td>\n",
       "      <td>275.000000</td>\n",
       "      <td>346.000000</td>\n",
       "      <td>7920.000000</td>\n",
       "      <td>1539.000000</td>\n",
       "      <td>5773.000000</td>\n",
       "      <td>656.000000</td>\n",
       "      <td>55.000000</td>\n",
       "    </tr>\n",
       "  </tbody>\n",
       "</table>\n",
       "</div>"
      ],
      "text/plain": [
       "       Population  Violent_crime  Murder and nonnegligent manslaughter  \\\n",
       "count  109.000000     109.000000                            109.000000   \n",
       "mean     2.121260      40.284404                              0.284404   \n",
       "std      0.386845      97.498062                              0.903612   \n",
       "min      0.000000       0.000000                              0.000000   \n",
       "25%      2.043009       2.000000                              0.000000   \n",
       "50%      2.199648      10.000000                              0.000000   \n",
       "75%      2.279224      33.000000                              0.000000   \n",
       "max      2.482696     611.000000                              7.000000   \n",
       "\n",
       "            Rape1  Rape (legacy definition)2     Robbery  Aggravated assault  \\\n",
       "count  109.000000                 109.000000  109.000000          109.000000   \n",
       "mean     3.091743                   2.256881   11.385321           23.266055   \n",
       "std      9.173776                   6.371818   35.938710           55.356027   \n",
       "min      0.000000                   0.000000    0.000000            0.000000   \n",
       "25%      0.000000                   0.000000    0.000000            1.000000   \n",
       "50%      0.000000                   0.000000    1.000000            5.000000   \n",
       "75%      2.000000                   2.000000    7.000000           21.000000   \n",
       "max     68.000000                  52.000000  275.000000          346.000000   \n",
       "\n",
       "       Property_crime     Burglary  Larceny-theft  Motor_Vehicle_theft  \\\n",
       "count      109.000000   109.000000     109.000000           109.000000   \n",
       "mean       626.642202    96.330275     489.908257            40.403670   \n",
       "std       1230.803385   207.331014     933.206177           102.996055   \n",
       "min          0.000000     0.000000       0.000000             0.000000   \n",
       "25%         48.000000     8.000000      33.000000             3.000000   \n",
       "50%        268.000000    37.000000     207.000000             9.000000   \n",
       "75%        602.000000    89.000000     497.000000            32.000000   \n",
       "max       7920.000000  1539.000000    5773.000000           656.000000   \n",
       "\n",
       "            Arson  \n",
       "count  109.000000  \n",
       "mean     4.522936  \n",
       "std      9.692109  \n",
       "min      0.000000  \n",
       "25%      0.000000  \n",
       "50%      1.000000  \n",
       "75%      4.000000  \n",
       "max     55.000000  "
      ]
     },
     "execution_count": 246,
     "metadata": {},
     "output_type": "execute_result"
    }
   ],
   "source": [
    "crime.describe()"
   ]
  },
  {
   "cell_type": "code",
   "execution_count": 228,
   "metadata": {},
   "outputs": [],
   "source": [
    "# Let's get rid of na values\n",
    "crime = crime.fillna(0)"
   ]
  },
  {
   "cell_type": "code",
   "execution_count": 229,
   "metadata": {},
   "outputs": [
    {
     "data": {
      "text/plain": [
       "<seaborn.axisgrid.PairGrid at 0x27d61e16c50>"
      ]
     },
     "execution_count": 229,
     "metadata": {},
     "output_type": "execute_result"
    },
    {
     "data": {
      "image/png": "[encoded data removed]",
      "text/plain": [
       "<Figure size 720x720 with 20 Axes>"
      ]
     },
     "metadata": {},
     "output_type": "display_data"
    }
   ],
   "source": [
    "sns.pairplot(crime[['Robbery', 'Burglary', 'Property_crime', 'Population']])"
   ]
  },
  {
   "cell_type": "code",
   "execution_count": 230,
   "metadata": {},
   "outputs": [],
   "source": [
    "# seems I have an outlier, I'm guessing it's Portland. \n",
    "# I'm going to take the log of population, since there \n",
    "# are a couple other points that are outliers"
   ]
  },
  {
   "cell_type": "code",
   "execution_count": 231,
   "metadata": {},
   "outputs": [
    {
     "data": {
      "image/png": "[encoded data removed]",
      "text/plain": [
       "<Figure size 1080x360 with 1 Axes>"
      ]
     },
     "metadata": {},
     "output_type": "display_data"
    }
   ],
   "source": [
    "plt.scatter(crime['Population'], crime['Property_crime'])\n",
    "plt.title('Population vs Property_crime')\n",
    "plt.show()"
   ]
  },
  {
   "cell_type": "code",
   "execution_count": 232,
   "metadata": {},
   "outputs": [],
   "source": [
    "# this looks fairly linear if I drop Portland from the list."
   ]
  },
  {
   "cell_type": "code",
   "execution_count": 233,
   "metadata": {},
   "outputs": [
    {
     "name": "stdout",
     "output_type": "stream",
     "text": [
      "Empty DataFrame\n",
      "Columns: [City, Population, Violent_crime, Murder and nonnegligent manslaughter, Rape1, Rape (legacy definition)2, Robbery, Aggravated assault, Property_crime, Burglary, Larceny-theft, Motor vehicle theft, Arson]\n",
      "Index: []\n"
     ]
    }
   ],
   "source": [
    "print(crime.loc[crime['Population'] == 609136])"
   ]
  },
  {
   "cell_type": "code",
   "execution_count": 234,
   "metadata": {},
   "outputs": [],
   "source": [
    "crime = crime.drop(crime.index[[78]])"
   ]
  },
  {
   "cell_type": "code",
   "execution_count": 235,
   "metadata": {},
   "outputs": [
    {
     "data": {
      "text/plain": [
       "<seaborn.axisgrid.PairGrid at 0x27d5f964e48>"
      ]
     },
     "execution_count": 235,
     "metadata": {},
     "output_type": "execute_result"
    },
    {
     "data": {
      "image/png": "[encoded data removed]",
      "text/plain": [
       "<Figure size 720x720 with 20 Axes>"
      ]
     },
     "metadata": {},
     "output_type": "display_data"
    }
   ],
   "source": [
    "sns.pairplot(crime[['Robbery', 'Burglary', 'Property_crime', 'Population']])"
   ]
  },
  {
   "cell_type": "code",
   "execution_count": 236,
   "metadata": {},
   "outputs": [
    {
     "name": "stdout",
     "output_type": "stream",
     "text": [
      "                            OLS Regression Results                            \n",
      "==============================================================================\n",
      "Dep. Variable:         Property_crime   R-squared:                       0.958\n",
      "Model:                            OLS   Adj. R-squared:                  0.957\n",
      "Method:                 Least Squares   F-statistic:                     803.6\n",
      "Date:                Wed, 30 May 2018   Prob (F-statistic):           3.05e-72\n",
      "Time:                        11:38:32   Log-Likelihood:                -756.63\n",
      "No. Observations:                 109   AIC:                             1521.\n",
      "Df Residuals:                     105   BIC:                             1532.\n",
      "Df Model:                           3                                         \n",
      "Covariance Type:            nonrobust                                         \n",
      "==============================================================================\n",
      "                 coef    std err          t      P>|t|      [0.025      0.975]\n",
      "------------------------------------------------------------------------------\n",
      "Intercept   -180.6433    139.802     -1.292      0.199    -457.844      96.558\n",
      "Population   114.3446     66.432      1.721      0.088     -17.377     246.066\n",
      "Robbery       -3.1689      1.599     -1.981      0.050      -6.340       0.003\n",
      "Burglary       6.2370      0.282     22.144      0.000       5.678       6.795\n",
      "==============================================================================\n",
      "Omnibus:                       68.401   Durbin-Watson:                   1.881\n",
      "Prob(Omnibus):                  0.000   Jarque-Bera (JB):              998.566\n",
      "Skew:                           1.612   Prob(JB):                    1.46e-217\n",
      "Kurtosis:                      17.473   Cond. No.                     1.46e+03\n",
      "==============================================================================\n",
      "\n",
      "Warnings:\n",
      "[1] Standard Errors assume that the covariance matrix of the errors is correctly specified.\n",
      "[2] The condition number is large, 1.46e+03. This might indicate that there are\n",
      "strong multicollinearity or other numerical problems.\n"
     ]
    }
   ],
   "source": [
    "# writing out formula\n",
    "linear_formula = \"Property_crime ~ Population+Robbery+Burglary\"\n",
    "lm = smf.ols(formula=linear_formula,data=crime).fit()\n",
    "print(lm.summary())"
   ]
  },
  {
   "cell_type": "code",
   "execution_count": 237,
   "metadata": {},
   "outputs": [
    {
     "data": {
      "text/plain": [
       "Intercept     1.991457e-01\n",
       "Population    8.815311e-02\n",
       "Robbery       5.017875e-02\n",
       "Burglary      2.338273e-41\n",
       "dtype: float64"
      ]
     },
     "execution_count": 237,
     "metadata": {},
     "output_type": "execute_result"
    }
   ],
   "source": [
    "lm.pvalues"
   ]
  },
  {
   "cell_type": "code",
   "execution_count": 238,
   "metadata": {},
   "outputs": [],
   "source": [
    "# Let's do some tests to see what's wrong with our model."
   ]
  },
  {
   "cell_type": "code",
   "execution_count": 241,
   "metadata": {},
   "outputs": [],
   "source": [
    "x = crime[['Population', 'Burglary', 'Robbery']]"
   ]
  },
  {
   "cell_type": "code",
   "execution_count": 242,
   "metadata": {},
   "outputs": [
    {
     "data": {
      "text/html": [
       "<div>\n",
       "<style scoped>\n",
       "    .dataframe tbody tr th:only-of-type {\n",
       "        vertical-align: middle;\n",
       "    }\n",
       "\n",
       "    .dataframe tbody tr th {\n",
       "        vertical-align: top;\n",
       "    }\n",
       "\n",
       "    .dataframe thead th {\n",
       "        text-align: right;\n",
       "    }\n",
       "</style>\n",
       "<table border=\"1\" class=\"dataframe\">\n",
       "  <thead>\n",
       "    <tr style=\"text-align: right;\">\n",
       "      <th></th>\n",
       "      <th>Population</th>\n",
       "      <th>Burglary</th>\n",
       "      <th>Robbery</th>\n",
       "    </tr>\n",
       "  </thead>\n",
       "  <tbody>\n",
       "    <tr>\n",
       "      <th>Population</th>\n",
       "      <td>1.000000</td>\n",
       "      <td>0.289565</td>\n",
       "      <td>0.233349</td>\n",
       "    </tr>\n",
       "    <tr>\n",
       "      <th>Burglary</th>\n",
       "      <td>0.289565</td>\n",
       "      <td>1.000000</td>\n",
       "      <td>0.903816</td>\n",
       "    </tr>\n",
       "    <tr>\n",
       "      <th>Robbery</th>\n",
       "      <td>0.233349</td>\n",
       "      <td>0.903816</td>\n",
       "      <td>1.000000</td>\n",
       "    </tr>\n",
       "  </tbody>\n",
       "</table>\n",
       "</div>"
      ],
      "text/plain": [
       "            Population  Burglary   Robbery\n",
       "Population    1.000000  0.289565  0.233349\n",
       "Burglary      0.289565  1.000000  0.903816\n",
       "Robbery       0.233349  0.903816  1.000000"
      ]
     },
     "metadata": {},
     "output_type": "display_data"
    }
   ],
   "source": [
    "correlation_matrix = x.corr()\n",
    "display(correlation_matrix)"
   ]
  },
  {
   "cell_type": "markdown",
   "metadata": {},
   "source": [
    " Well it appears we have very strong multicollinearity in our model.\n",
    " Let's try some new variable and see if we can better model for \n",
    " property crime. We should drop burglary or robbery since they are highly correlated and similar crimes. Let's try taking the log of population since we still have some outliers. We will add violent crime and arson as new features. "
   ]
  },
  {
   "cell_type": "code",
   "execution_count": 247,
   "metadata": {},
   "outputs": [
    {
     "name": "stdout",
     "output_type": "stream",
     "text": [
      "                            OLS Regression Results                            \n",
      "==============================================================================\n",
      "Dep. Variable:         Property_crime   R-squared:                       0.971\n",
      "Model:                            OLS   Adj. R-squared:                  0.970\n",
      "Method:                 Least Squares   F-statistic:                     864.2\n",
      "Date:                Wed, 30 May 2018   Prob (F-statistic):           8.27e-79\n",
      "Time:                        11:40:54   Log-Likelihood:                -737.18\n",
      "No. Observations:                 109   AIC:                             1484.\n",
      "Df Residuals:                     104   BIC:                             1498.\n",
      "Df Model:                           4                                         \n",
      "Covariance Type:            nonrobust                                         \n",
      "=======================================================================================\n",
      "                          coef    std err          t      P>|t|      [0.025      0.975]\n",
      "---------------------------------------------------------------------------------------\n",
      "Intercept              99.1274     23.074      4.296      0.000      53.371     144.884\n",
      "Robbery                 2.0650      1.401      1.474      0.143      -0.713       4.843\n",
      "Rape1                  16.8638      4.679      3.604      0.000       7.586      26.142\n",
      "Motor_Vehicle_theft     6.0409      0.554     10.911      0.000       4.943       7.139\n",
      "Arson                  45.9418      4.896      9.384      0.000      36.233      55.651\n",
      "==============================================================================\n",
      "Omnibus:                       44.197   Durbin-Watson:                   1.861\n",
      "Prob(Omnibus):                  0.000   Jarque-Bera (JB):              105.103\n",
      "Skew:                           1.573   Prob(JB):                     1.50e-23\n",
      "Kurtosis:                       6.639   Cond. No.                         131.\n",
      "==============================================================================\n",
      "\n",
      "Warnings:\n",
      "[1] Standard Errors assume that the covariance matrix of the errors is correctly specified.\n"
     ]
    }
   ],
   "source": [
    "linear_formula = 'Property_crime ~ Robbery+Rape1+Motor_Vehicle_theft+Arson'\n",
    "lm = smf.ols(formula=linear_formula,data=crime).fit()\n",
    "print(lm.summary())"
   ]
  },
  {
   "cell_type": "code",
   "execution_count": 248,
   "metadata": {
    "scrolled": true
   },
   "outputs": [
    {
     "data": {
      "text/plain": [
       "Intercept              3.920946e-05\n",
       "Robbery                1.434584e-01\n",
       "Rape1                  4.821023e-04\n",
       "Motor_Vehicle_theft    6.225620e-19\n",
       "Arson                  1.602006e-15\n",
       "dtype: float64"
      ]
     },
     "execution_count": 248,
     "metadata": {},
     "output_type": "execute_result"
    }
   ],
   "source": [
    "lm.pvalues"
   ]
  },
  {
   "cell_type": "code",
   "execution_count": 249,
   "metadata": {},
   "outputs": [
    {
     "data": {
      "text/plain": [
       "0.970792071141282"
      ]
     },
     "execution_count": 249,
     "metadata": {},
     "output_type": "execute_result"
    }
   ],
   "source": [
    "lm.rsquared"
   ]
  },
  {
   "cell_type": "code",
   "execution_count": 250,
   "metadata": {},
   "outputs": [
    {
     "data": {
      "text/html": [
       "<div>\n",
       "<style scoped>\n",
       "    .dataframe tbody tr th:only-of-type {\n",
       "        vertical-align: middle;\n",
       "    }\n",
       "\n",
       "    .dataframe tbody tr th {\n",
       "        vertical-align: top;\n",
       "    }\n",
       "\n",
       "    .dataframe thead th {\n",
       "        text-align: right;\n",
       "    }\n",
       "</style>\n",
       "<table border=\"1\" class=\"dataframe\">\n",
       "  <thead>\n",
       "    <tr style=\"text-align: right;\">\n",
       "      <th></th>\n",
       "      <th>0</th>\n",
       "      <th>1</th>\n",
       "    </tr>\n",
       "  </thead>\n",
       "  <tbody>\n",
       "    <tr>\n",
       "      <th>Intercept</th>\n",
       "      <td>53.370746</td>\n",
       "      <td>144.884038</td>\n",
       "    </tr>\n",
       "    <tr>\n",
       "      <th>Robbery</th>\n",
       "      <td>-0.712830</td>\n",
       "      <td>4.842839</td>\n",
       "    </tr>\n",
       "    <tr>\n",
       "      <th>Rape1</th>\n",
       "      <td>7.585700</td>\n",
       "      <td>26.141849</td>\n",
       "    </tr>\n",
       "    <tr>\n",
       "      <th>Motor_Vehicle_theft</th>\n",
       "      <td>4.942969</td>\n",
       "      <td>7.138804</td>\n",
       "    </tr>\n",
       "    <tr>\n",
       "      <th>Arson</th>\n",
       "      <td>36.233023</td>\n",
       "      <td>55.650502</td>\n",
       "    </tr>\n",
       "  </tbody>\n",
       "</table>\n",
       "</div>"
      ],
      "text/plain": [
       "                             0           1\n",
       "Intercept            53.370746  144.884038\n",
       "Robbery              -0.712830    4.842839\n",
       "Rape1                 7.585700   26.141849\n",
       "Motor_Vehicle_theft   4.942969    7.138804\n",
       "Arson                36.233023   55.650502"
      ]
     },
     "execution_count": 250,
     "metadata": {},
     "output_type": "execute_result"
    }
   ],
   "source": [
    "lm.conf_int()"
   ]
  },
  {
   "cell_type": "code",
   "execution_count": 251,
   "metadata": {},
   "outputs": [
    {
     "data": {
      "image/png": "[encoded data removed]",
      "text/plain": [
       "<Figure size 1080x360 with 1 Axes>"
      ]
     },
     "metadata": {},
     "output_type": "display_data"
    }
   ],
   "source": [
    "# wls_pred to build conf intervals\n",
    "prstd, iv_l, iv_u = wls_prediction_std(lm)\n",
    "\n",
    "plt.figure()\n",
    "plt.plot(iv_u[0:15], 'o', color='r')\n",
    "plt.plot(iv_l[0:15], 'o', color='r')\n",
    "plt.plot(lm.fittedvalues[0:15], 'o', color='b')\n",
    "plt.title('blue: predicted, red: 95% CI')\n",
    "plt.show()"
   ]
  },
  {
   "cell_type": "markdown",
   "metadata": {},
   "source": [
    "Let's check our Linear assumptions to finish up."
   ]
  },
  {
   "cell_type": "code",
   "execution_count": 254,
   "metadata": {},
   "outputs": [],
   "source": [
    "y = crime[['Robbery', 'Rape1', 'Motor_Vehicle_theft', 'Arson']]"
   ]
  },
  {
   "cell_type": "code",
   "execution_count": 256,
   "metadata": {},
   "outputs": [
    {
     "data": {
      "image/png": "[encoded data removed]",
      "text/plain": [
       "<Figure size 1080x360 with 1 Axes>"
      ]
     },
     "metadata": {},
     "output_type": "display_data"
    }
   ],
   "source": [
    "# checking multivariate normality\n",
    "predicted = lm.predict(y).ravel()\n",
    "actual = crime['Property_crime']\n",
    "# calc error\n",
    "residual = actual - predicted\n",
    "\n",
    "plt.hist(residual, bins=25)\n",
    "plt.title('Residual counts')\n",
    "plt.xlabel('Residual')\n",
    "plt.ylabel('Count')\n",
    "plt.show()"
   ]
  },
  {
   "cell_type": "code",
   "execution_count": 257,
   "metadata": {},
   "outputs": [
    {
     "name": "stdout",
     "output_type": "stream",
     "text": [
      "1.8617523425053635e-13\n"
     ]
    }
   ],
   "source": [
    "print(residual.mean())"
   ]
  },
  {
   "cell_type": "code",
   "execution_count": 258,
   "metadata": {},
   "outputs": [
    {
     "data": {
      "image/png": "[encoded data removed]",
      "text/plain": [
       "<Figure size 1080x360 with 1 Axes>"
      ]
     },
     "metadata": {},
     "output_type": "display_data"
    }
   ],
   "source": [
    "plt.scatter(predicted, residual)\n",
    "plt.xlabel('Predicted')\n",
    "plt.ylabel('Residual')\n",
    "plt.axhline(y=0)\n",
    "plt.title('Residual vs. Predicted')\n",
    "plt.show()"
   ]
  },
  {
   "cell_type": "code",
   "execution_count": 259,
   "metadata": {},
   "outputs": [
    {
     "data": {
      "text/html": [
       "<div>\n",
       "<style scoped>\n",
       "    .dataframe tbody tr th:only-of-type {\n",
       "        vertical-align: middle;\n",
       "    }\n",
       "\n",
       "    .dataframe tbody tr th {\n",
       "        vertical-align: top;\n",
       "    }\n",
       "\n",
       "    .dataframe thead th {\n",
       "        text-align: right;\n",
       "    }\n",
       "</style>\n",
       "<table border=\"1\" class=\"dataframe\">\n",
       "  <thead>\n",
       "    <tr style=\"text-align: right;\">\n",
       "      <th></th>\n",
       "      <th>Robbery</th>\n",
       "      <th>Rape1</th>\n",
       "      <th>Motor_Vehicle_theft</th>\n",
       "      <th>Arson</th>\n",
       "    </tr>\n",
       "  </thead>\n",
       "  <tbody>\n",
       "    <tr>\n",
       "      <th>Robbery</th>\n",
       "      <td>1.000000</td>\n",
       "      <td>0.620923</td>\n",
       "      <td>0.899674</td>\n",
       "      <td>0.752657</td>\n",
       "    </tr>\n",
       "    <tr>\n",
       "      <th>Rape1</th>\n",
       "      <td>0.620923</td>\n",
       "      <td>1.000000</td>\n",
       "      <td>0.749599</td>\n",
       "      <td>0.854534</td>\n",
       "    </tr>\n",
       "    <tr>\n",
       "      <th>Motor_Vehicle_theft</th>\n",
       "      <td>0.899674</td>\n",
       "      <td>0.749599</td>\n",
       "      <td>1.000000</td>\n",
       "      <td>0.806162</td>\n",
       "    </tr>\n",
       "    <tr>\n",
       "      <th>Arson</th>\n",
       "      <td>0.752657</td>\n",
       "      <td>0.854534</td>\n",
       "      <td>0.806162</td>\n",
       "      <td>1.000000</td>\n",
       "    </tr>\n",
       "  </tbody>\n",
       "</table>\n",
       "</div>"
      ],
      "text/plain": [
       "                      Robbery     Rape1  Motor_Vehicle_theft     Arson\n",
       "Robbery              1.000000  0.620923             0.899674  0.752657\n",
       "Rape1                0.620923  1.000000             0.749599  0.854534\n",
       "Motor_Vehicle_theft  0.899674  0.749599             1.000000  0.806162\n",
       "Arson                0.752657  0.854534             0.806162  1.000000"
      ]
     },
     "metadata": {},
     "output_type": "display_data"
    }
   ],
   "source": [
    "correlation_matrix = y.corr()\n",
    "display(correlation_matrix)"
   ]
  },
  {
   "cell_type": "code",
   "execution_count": 275,
   "metadata": {},
   "outputs": [
    {
     "name": "stdout",
     "output_type": "stream",
     "text": [
      "(54, 4)\n",
      "(55, 4)\n",
      "(54,)\n",
      "(55,)\n"
     ]
    }
   ],
   "source": [
    "x_train, x_test, y_train, y_test = sklearn.model_selection.train_test_split(\n",
    "y, crime['Property_crime'], test_size=0.5, random_state = 5)\n",
    "\n",
    "print(x_train.shape)\n",
    "print(x_test.shape)\n",
    "print(y_train.shape)\n",
    "print(y_test.shape)"
   ]
  },
  {
   "cell_type": "code",
   "execution_count": 276,
   "metadata": {},
   "outputs": [],
   "source": [
    "lm = linear_model.LinearRegression()\n",
    "lm.fit(x_train, y_train)\n",
    "pred_train = lm.predict(x_train)\n",
    "pred_test = lm.predict(x_test)"
   ]
  },
  {
   "cell_type": "code",
   "execution_count": 277,
   "metadata": {},
   "outputs": [
    {
     "name": "stdout",
     "output_type": "stream",
     "text": [
      "Fit a model X_train, and calculate MSE with y_train: 27933.138726853304\n",
      "Fit a model X_train, and calculate MSE with X_test, y_test: 418200.96267203667\n"
     ]
    }
   ],
   "source": [
    "print ('Fit a model X_train, and calculate MSE with y_train:', np.mean((y_train - lm.predict(x_train)) ** 2))\n",
    "print ('Fit a model X_train, and calculate MSE with X_test, y_test:', np.mean((y_test - lm.predict(x_test)) ** 2))"
   ]
  },
  {
   "cell_type": "code",
   "execution_count": 278,
   "metadata": {},
   "outputs": [
    {
     "data": {
      "text/plain": [
       "Text(0,0.5,'Residuals')"
      ]
     },
     "execution_count": 278,
     "metadata": {},
     "output_type": "execute_result"
    },
    {
     "data": {
      "image/png": "[encoded data removed]",
      "text/plain": [
       "<Figure size 1080x360 with 1 Axes>"
      ]
     },
     "metadata": {},
     "output_type": "display_data"
    }
   ],
   "source": [
    "train_residuals = (lm.predict(x_train), lm.predict(x_train) - y_train)\n",
    "test_residuals = (lm.predict(x_test), lm.predict(x_test) - y_test)\n",
    "plt.hist(train_residuals)\n",
    "plt.title('Residual Plot of Training Data')\n",
    "plt.ylabel('Residuals')"
   ]
  },
  {
   "cell_type": "code",
   "execution_count": 279,
   "metadata": {},
   "outputs": [
    {
     "data": {
      "text/plain": [
       "Text(0.5,1,'Residual Plot of Test Data')"
      ]
     },
     "execution_count": 279,
     "metadata": {},
     "output_type": "execute_result"
    },
    {
     "data": {
      "image/png": "[encoded data removed]",
      "text/plain": [
       "<Figure size 1080x360 with 1 Axes>"
      ]
     },
     "metadata": {},
     "output_type": "display_data"
    }
   ],
   "source": [
    "plt.hist(test_residuals)\n",
    "plt.title('Residual Plot of Test Data')"
   ]
  },
  {
   "cell_type": "markdown",
   "metadata": {},
   "source": [
    "It looks like our model is suffering from heteroscedasticity since it seems that the residuals get smaller as the prediction moves from large to small. We can either transform a variable or there is a variable missing and we need to add one or more. Our model still has multicollinearity but that seems unavoidable with the dataset that we have. "
   ]
  }
 ],
 "metadata": {
  "kernelspec": {
   "display_name": "Python 3",
   "language": "python",
   "name": "python3"
  },
  "language_info": {
   "codemirror_mode": {
    "name": "ipython",
    "version": 3
   },
   "file_extension": ".py",
   "mimetype": "text/x-python",
   "name": "python",
   "nbconvert_exporter": "python",
   "pygments_lexer": "ipython3",
   "version": "3.6.5"
  }
 },
 "nbformat": 4,
 "nbformat_minor": 2
}
