{
 "cells": [
  {
   "cell_type": "code",
   "execution_count": 1,
   "metadata": {},
   "outputs": [],
   "source": [
    "# Initially you have a 1 in 3 chance of choosing the right door. When the\n",
    "# host opens one of the other two doors the temptation to keep the door you \n",
    "# have is high and is initially my thought. Using bayes rule though shows that\n",
    "# in fact it's better to switch doors."
   ]
  },
  {
   "cell_type": "code",
   "execution_count": 2,
   "metadata": {},
   "outputs": [],
   "source": [
    "# Bayes' Rule\n",
    "\n",
    "# So, all the doors have the possiblility of eithering having the car \n",
    "\n",
    "# or the goat behind them. We only care which one has the car and what\n",
    "\n",
    "# door Monty will open.\n",
    "\n",
    "# C = Car , MO = Monty opens door\n",
    "\n",
    "# When you have your first selection  p(C1, C2, C3) = 1/3\n",
    "\n",
    "# if I choose door 1 and Monty opens door 3. Door 3 is now P(C3) = 0\n",
    "\n",
    "# Now lets say the car is behind door 1. changing the odds between door 1 and\n",
    "\n",
    "# door 3 to, P(MO3|C1) = 1/2 and given Monty opened door 3, P(MO3|C3) = 0\n",
    "\n",
    "# Now if the car is behind door 2, P(MO3|C2) = 1\n",
    "\n",
    "# Using BR   P(C1|MO3) = P(MO3|C1)*P(C1)/P(MO3)\n",
    "#                      = (1/2*1/3)/(1/2)\n",
    "#                      = 1/3\n",
    "\n",
    "# This shows that keeping the door I have isn't statistically smart as I am\n",
    "# betting against 2 doors. Switching gives me 2/3 chance of getting the car\n",
    "# since it's choosing 2 doors. I basically get 2 chances of choosing the car\n",
    "# but Monty chooses the bad one for me.\n"
   ]
  },
  {
   "cell_type": "code",
   "execution_count": null,
   "metadata": {},
   "outputs": [],
   "source": []
  }
 ],
 "metadata": {
  "kernelspec": {
   "display_name": "Python 3",
   "language": "python",
   "name": "python3"
  },
  "language_info": {
   "codemirror_mode": {
    "name": "ipython",
    "version": 3
   },
   "file_extension": ".py",
   "mimetype": "text/x-python",
   "name": "python",
   "nbconvert_exporter": "python",
   "pygments_lexer": "ipython3",
   "version": "3.6.5"
  }
 },
 "nbformat": 4,
 "nbformat_minor": 2
}
