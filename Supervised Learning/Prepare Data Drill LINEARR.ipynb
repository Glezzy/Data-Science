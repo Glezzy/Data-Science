{
 "cells": [
  {
   "cell_type": "code",
   "execution_count": 288,
   "metadata": {},
   "outputs": [],
   "source": [
    "import pandas as pd\n",
    "import numpy as np\n",
    "import matplotlib.pyplot as plt\n",
    "import sklearn\n",
    "from sklearn import linear_model"
   ]
  },
  {
   "cell_type": "code",
   "execution_count": 255,
   "metadata": {},
   "outputs": [
    {
     "data": {
      "text/html": [
       "<div>\n",
       "<style scoped>\n",
       "    .dataframe tbody tr th:only-of-type {\n",
       "        vertical-align: middle;\n",
       "    }\n",
       "\n",
       "    .dataframe tbody tr th {\n",
       "        vertical-align: top;\n",
       "    }\n",
       "\n",
       "    .dataframe thead th {\n",
       "        text-align: right;\n",
       "    }\n",
       "</style>\n",
       "<table border=\"1\" class=\"dataframe\">\n",
       "  <thead>\n",
       "    <tr style=\"text-align: right;\">\n",
       "      <th></th>\n",
       "      <th>City</th>\n",
       "      <th>Population</th>\n",
       "      <th>Violent crime</th>\n",
       "      <th>Murder and non-negilent manslaughter</th>\n",
       "      <th>Rape1</th>\n",
       "      <th>Rape2</th>\n",
       "      <th>Robbery</th>\n",
       "      <th>Aggravated assualt</th>\n",
       "      <th>Property crime</th>\n",
       "      <th>Burglary</th>\n",
       "      <th>Larceny-theft</th>\n",
       "      <th>motor vehicle theft</th>\n",
       "      <th>Arson3</th>\n",
       "    </tr>\n",
       "  </thead>\n",
       "  <tbody>\n",
       "    <tr>\n",
       "      <th>0</th>\n",
       "      <td>Adams Village</td>\n",
       "      <td>1861.0</td>\n",
       "      <td>0.0</td>\n",
       "      <td>0.0</td>\n",
       "      <td>NaN</td>\n",
       "      <td>0.0</td>\n",
       "      <td>0.0</td>\n",
       "      <td>0.0</td>\n",
       "      <td>12.0</td>\n",
       "      <td>2.0</td>\n",
       "      <td>10.0</td>\n",
       "      <td>0.0</td>\n",
       "      <td>0.0</td>\n",
       "    </tr>\n",
       "    <tr>\n",
       "      <th>1</th>\n",
       "      <td>Addison Town and Village</td>\n",
       "      <td>2577.0</td>\n",
       "      <td>3.0</td>\n",
       "      <td>0.0</td>\n",
       "      <td>NaN</td>\n",
       "      <td>0.0</td>\n",
       "      <td>0.0</td>\n",
       "      <td>3.0</td>\n",
       "      <td>24.0</td>\n",
       "      <td>3.0</td>\n",
       "      <td>20.0</td>\n",
       "      <td>1.0</td>\n",
       "      <td>0.0</td>\n",
       "    </tr>\n",
       "    <tr>\n",
       "      <th>2</th>\n",
       "      <td>Akron Village</td>\n",
       "      <td>2846.0</td>\n",
       "      <td>3.0</td>\n",
       "      <td>0.0</td>\n",
       "      <td>NaN</td>\n",
       "      <td>0.0</td>\n",
       "      <td>0.0</td>\n",
       "      <td>3.0</td>\n",
       "      <td>16.0</td>\n",
       "      <td>1.0</td>\n",
       "      <td>15.0</td>\n",
       "      <td>0.0</td>\n",
       "      <td>0.0</td>\n",
       "    </tr>\n",
       "    <tr>\n",
       "      <th>3</th>\n",
       "      <td>Albany</td>\n",
       "      <td>97956.0</td>\n",
       "      <td>791.0</td>\n",
       "      <td>8.0</td>\n",
       "      <td>NaN</td>\n",
       "      <td>30.0</td>\n",
       "      <td>227.0</td>\n",
       "      <td>526.0</td>\n",
       "      <td>4090.0</td>\n",
       "      <td>705.0</td>\n",
       "      <td>3243.0</td>\n",
       "      <td>142.0</td>\n",
       "      <td>NaN</td>\n",
       "    </tr>\n",
       "    <tr>\n",
       "      <th>4</th>\n",
       "      <td>Albion Village</td>\n",
       "      <td>6388.0</td>\n",
       "      <td>23.0</td>\n",
       "      <td>0.0</td>\n",
       "      <td>NaN</td>\n",
       "      <td>3.0</td>\n",
       "      <td>4.0</td>\n",
       "      <td>16.0</td>\n",
       "      <td>223.0</td>\n",
       "      <td>53.0</td>\n",
       "      <td>165.0</td>\n",
       "      <td>5.0</td>\n",
       "      <td>NaN</td>\n",
       "    </tr>\n",
       "    <tr>\n",
       "      <th>5</th>\n",
       "      <td>Alfred Village</td>\n",
       "      <td>4089.0</td>\n",
       "      <td>5.0</td>\n",
       "      <td>0.0</td>\n",
       "      <td>NaN</td>\n",
       "      <td>0.0</td>\n",
       "      <td>3.0</td>\n",
       "      <td>2.0</td>\n",
       "      <td>46.0</td>\n",
       "      <td>10.0</td>\n",
       "      <td>36.0</td>\n",
       "      <td>0.0</td>\n",
       "      <td>NaN</td>\n",
       "    </tr>\n",
       "    <tr>\n",
       "      <th>6</th>\n",
       "      <td>Allegany Village</td>\n",
       "      <td>1781.0</td>\n",
       "      <td>3.0</td>\n",
       "      <td>0.0</td>\n",
       "      <td>NaN</td>\n",
       "      <td>0.0</td>\n",
       "      <td>0.0</td>\n",
       "      <td>3.0</td>\n",
       "      <td>10.0</td>\n",
       "      <td>0.0</td>\n",
       "      <td>10.0</td>\n",
       "      <td>0.0</td>\n",
       "      <td>0.0</td>\n",
       "    </tr>\n",
       "    <tr>\n",
       "      <th>7</th>\n",
       "      <td>Amherst Town</td>\n",
       "      <td>118296.0</td>\n",
       "      <td>107.0</td>\n",
       "      <td>1.0</td>\n",
       "      <td>NaN</td>\n",
       "      <td>7.0</td>\n",
       "      <td>31.0</td>\n",
       "      <td>68.0</td>\n",
       "      <td>2118.0</td>\n",
       "      <td>204.0</td>\n",
       "      <td>1882.0</td>\n",
       "      <td>32.0</td>\n",
       "      <td>3.0</td>\n",
       "    </tr>\n",
       "    <tr>\n",
       "      <th>8</th>\n",
       "      <td>Amityville Village</td>\n",
       "      <td>9519.0</td>\n",
       "      <td>9.0</td>\n",
       "      <td>0.0</td>\n",
       "      <td>NaN</td>\n",
       "      <td>2.0</td>\n",
       "      <td>4.0</td>\n",
       "      <td>3.0</td>\n",
       "      <td>210.0</td>\n",
       "      <td>16.0</td>\n",
       "      <td>188.0</td>\n",
       "      <td>6.0</td>\n",
       "      <td>1.0</td>\n",
       "    </tr>\n",
       "    <tr>\n",
       "      <th>9</th>\n",
       "      <td>Amsterdam</td>\n",
       "      <td>18182.0</td>\n",
       "      <td>30.0</td>\n",
       "      <td>0.0</td>\n",
       "      <td>NaN</td>\n",
       "      <td>0.0</td>\n",
       "      <td>12.0</td>\n",
       "      <td>18.0</td>\n",
       "      <td>405.0</td>\n",
       "      <td>99.0</td>\n",
       "      <td>291.0</td>\n",
       "      <td>15.0</td>\n",
       "      <td>0.0</td>\n",
       "    </tr>\n",
       "  </tbody>\n",
       "</table>\n",
       "</div>"
      ],
      "text/plain": [
       "                       City  Population  Violent crime  \\\n",
       "0             Adams Village      1861.0            0.0   \n",
       "1  Addison Town and Village      2577.0            3.0   \n",
       "2             Akron Village      2846.0            3.0   \n",
       "3                    Albany     97956.0          791.0   \n",
       "4            Albion Village      6388.0           23.0   \n",
       "5            Alfred Village      4089.0            5.0   \n",
       "6          Allegany Village      1781.0            3.0   \n",
       "7              Amherst Town    118296.0          107.0   \n",
       "8        Amityville Village      9519.0            9.0   \n",
       "9                 Amsterdam     18182.0           30.0   \n",
       "\n",
       "   Murder and non-negilent manslaughter  Rape1  Rape2  Robbery  \\\n",
       "0                                   0.0    NaN    0.0      0.0   \n",
       "1                                   0.0    NaN    0.0      0.0   \n",
       "2                                   0.0    NaN    0.0      0.0   \n",
       "3                                   8.0    NaN   30.0    227.0   \n",
       "4                                   0.0    NaN    3.0      4.0   \n",
       "5                                   0.0    NaN    0.0      3.0   \n",
       "6                                   0.0    NaN    0.0      0.0   \n",
       "7                                   1.0    NaN    7.0     31.0   \n",
       "8                                   0.0    NaN    2.0      4.0   \n",
       "9                                   0.0    NaN    0.0     12.0   \n",
       "\n",
       "   Aggravated assualt  Property crime  Burglary  Larceny-theft  \\\n",
       "0                 0.0            12.0       2.0           10.0   \n",
       "1                 3.0            24.0       3.0           20.0   \n",
       "2                 3.0            16.0       1.0           15.0   \n",
       "3               526.0          4090.0     705.0         3243.0   \n",
       "4                16.0           223.0      53.0          165.0   \n",
       "5                 2.0            46.0      10.0           36.0   \n",
       "6                 3.0            10.0       0.0           10.0   \n",
       "7                68.0          2118.0     204.0         1882.0   \n",
       "8                 3.0           210.0      16.0          188.0   \n",
       "9                18.0           405.0      99.0          291.0   \n",
       "\n",
       "   motor vehicle theft  Arson3  \n",
       "0                  0.0     0.0  \n",
       "1                  1.0     0.0  \n",
       "2                  0.0     0.0  \n",
       "3                142.0     NaN  \n",
       "4                  5.0     NaN  \n",
       "5                  0.0     NaN  \n",
       "6                  0.0     0.0  \n",
       "7                 32.0     3.0  \n",
       "8                  6.0     1.0  \n",
       "9                 15.0     0.0  "
      ]
     },
     "execution_count": 255,
     "metadata": {},
     "output_type": "execute_result"
    }
   ],
   "source": [
    "crime = pd.read_excel('new_york_crime.xlsx')\n",
    "crime.head(10)"
   ]
  },
  {
   "cell_type": "code",
   "execution_count": 256,
   "metadata": {},
   "outputs": [
    {
     "data": {
      "text/plain": [
       "RangeIndex(start=0, stop=353, step=1)"
      ]
     },
     "execution_count": 256,
     "metadata": {},
     "output_type": "execute_result"
    }
   ],
   "source": [
    "crime.index"
   ]
  },
  {
   "cell_type": "code",
   "execution_count": 257,
   "metadata": {},
   "outputs": [
    {
     "data": {
      "text/html": [
       "<div>\n",
       "<style scoped>\n",
       "    .dataframe tbody tr th:only-of-type {\n",
       "        vertical-align: middle;\n",
       "    }\n",
       "\n",
       "    .dataframe tbody tr th {\n",
       "        vertical-align: top;\n",
       "    }\n",
       "\n",
       "    .dataframe thead th {\n",
       "        text-align: right;\n",
       "    }\n",
       "</style>\n",
       "<table border=\"1\" class=\"dataframe\">\n",
       "  <thead>\n",
       "    <tr style=\"text-align: right;\">\n",
       "      <th></th>\n",
       "      <th>Population</th>\n",
       "      <th>Violent crime</th>\n",
       "      <th>Murder and non-negilent manslaughter</th>\n",
       "      <th>Rape1</th>\n",
       "      <th>Rape2</th>\n",
       "      <th>Robbery</th>\n",
       "      <th>Aggravated assualt</th>\n",
       "      <th>Property crime</th>\n",
       "      <th>Burglary</th>\n",
       "      <th>Larceny-theft</th>\n",
       "      <th>motor vehicle theft</th>\n",
       "      <th>Arson3</th>\n",
       "    </tr>\n",
       "  </thead>\n",
       "  <tbody>\n",
       "    <tr>\n",
       "      <th>count</th>\n",
       "      <td>3.480000e+02</td>\n",
       "      <td>348.000000</td>\n",
       "      <td>348.000000</td>\n",
       "      <td>0.0</td>\n",
       "      <td>348.000000</td>\n",
       "      <td>348.000000</td>\n",
       "      <td>348.000000</td>\n",
       "      <td>348.000000</td>\n",
       "      <td>348.000000</td>\n",
       "      <td>348.000000</td>\n",
       "      <td>348.000000</td>\n",
       "      <td>187.000000</td>\n",
       "    </tr>\n",
       "    <tr>\n",
       "      <th>mean</th>\n",
       "      <td>4.003763e+04</td>\n",
       "      <td>201.594828</td>\n",
       "      <td>1.566092</td>\n",
       "      <td>NaN</td>\n",
       "      <td>5.864943</td>\n",
       "      <td>72.902299</td>\n",
       "      <td>121.261494</td>\n",
       "      <td>792.606322</td>\n",
       "      <td>119.683908</td>\n",
       "      <td>637.017241</td>\n",
       "      <td>35.905172</td>\n",
       "      <td>1.871658</td>\n",
       "    </tr>\n",
       "    <tr>\n",
       "      <th>std</th>\n",
       "      <td>4.500374e+05</td>\n",
       "      <td>2815.268504</td>\n",
       "      <td>18.303673</td>\n",
       "      <td>NaN</td>\n",
       "      <td>60.425452</td>\n",
       "      <td>1031.032873</td>\n",
       "      <td>1706.131730</td>\n",
       "      <td>7659.724746</td>\n",
       "      <td>924.948789</td>\n",
       "      <td>6346.054451</td>\n",
       "      <td>403.423826</td>\n",
       "      <td>10.693411</td>\n",
       "    </tr>\n",
       "    <tr>\n",
       "      <th>min</th>\n",
       "      <td>5.260000e+02</td>\n",
       "      <td>0.000000</td>\n",
       "      <td>0.000000</td>\n",
       "      <td>NaN</td>\n",
       "      <td>0.000000</td>\n",
       "      <td>0.000000</td>\n",
       "      <td>0.000000</td>\n",
       "      <td>0.000000</td>\n",
       "      <td>0.000000</td>\n",
       "      <td>0.000000</td>\n",
       "      <td>0.000000</td>\n",
       "      <td>0.000000</td>\n",
       "    </tr>\n",
       "    <tr>\n",
       "      <th>25%</th>\n",
       "      <td>3.003000e+03</td>\n",
       "      <td>2.000000</td>\n",
       "      <td>0.000000</td>\n",
       "      <td>NaN</td>\n",
       "      <td>0.000000</td>\n",
       "      <td>0.000000</td>\n",
       "      <td>1.000000</td>\n",
       "      <td>40.500000</td>\n",
       "      <td>6.000000</td>\n",
       "      <td>31.000000</td>\n",
       "      <td>0.000000</td>\n",
       "      <td>0.000000</td>\n",
       "    </tr>\n",
       "    <tr>\n",
       "      <th>50%</th>\n",
       "      <td>7.233500e+03</td>\n",
       "      <td>6.000000</td>\n",
       "      <td>0.000000</td>\n",
       "      <td>NaN</td>\n",
       "      <td>0.000000</td>\n",
       "      <td>1.000000</td>\n",
       "      <td>4.000000</td>\n",
       "      <td>112.500000</td>\n",
       "      <td>17.500000</td>\n",
       "      <td>94.000000</td>\n",
       "      <td>2.000000</td>\n",
       "      <td>0.000000</td>\n",
       "    </tr>\n",
       "    <tr>\n",
       "      <th>75%</th>\n",
       "      <td>1.842750e+04</td>\n",
       "      <td>22.000000</td>\n",
       "      <td>0.000000</td>\n",
       "      <td>NaN</td>\n",
       "      <td>2.000000</td>\n",
       "      <td>5.000000</td>\n",
       "      <td>14.000000</td>\n",
       "      <td>341.000000</td>\n",
       "      <td>51.250000</td>\n",
       "      <td>287.250000</td>\n",
       "      <td>7.000000</td>\n",
       "      <td>1.000000</td>\n",
       "    </tr>\n",
       "    <tr>\n",
       "      <th>max</th>\n",
       "      <td>8.396126e+06</td>\n",
       "      <td>52384.000000</td>\n",
       "      <td>335.000000</td>\n",
       "      <td>NaN</td>\n",
       "      <td>1112.000000</td>\n",
       "      <td>19170.000000</td>\n",
       "      <td>31767.000000</td>\n",
       "      <td>141971.000000</td>\n",
       "      <td>16606.000000</td>\n",
       "      <td>117931.000000</td>\n",
       "      <td>7434.000000</td>\n",
       "      <td>132.000000</td>\n",
       "    </tr>\n",
       "  </tbody>\n",
       "</table>\n",
       "</div>"
      ],
      "text/plain": [
       "         Population  Violent crime  Murder and non-negilent manslaughter  \\\n",
       "count  3.480000e+02     348.000000                            348.000000   \n",
       "mean   4.003763e+04     201.594828                              1.566092   \n",
       "std    4.500374e+05    2815.268504                             18.303673   \n",
       "min    5.260000e+02       0.000000                              0.000000   \n",
       "25%    3.003000e+03       2.000000                              0.000000   \n",
       "50%    7.233500e+03       6.000000                              0.000000   \n",
       "75%    1.842750e+04      22.000000                              0.000000   \n",
       "max    8.396126e+06   52384.000000                            335.000000   \n",
       "\n",
       "       Rape1        Rape2       Robbery  Aggravated assualt  Property crime  \\\n",
       "count    0.0   348.000000    348.000000          348.000000      348.000000   \n",
       "mean     NaN     5.864943     72.902299          121.261494      792.606322   \n",
       "std      NaN    60.425452   1031.032873         1706.131730     7659.724746   \n",
       "min      NaN     0.000000      0.000000            0.000000        0.000000   \n",
       "25%      NaN     0.000000      0.000000            1.000000       40.500000   \n",
       "50%      NaN     0.000000      1.000000            4.000000      112.500000   \n",
       "75%      NaN     2.000000      5.000000           14.000000      341.000000   \n",
       "max      NaN  1112.000000  19170.000000        31767.000000   141971.000000   \n",
       "\n",
       "           Burglary  Larceny-theft  motor vehicle theft      Arson3  \n",
       "count    348.000000     348.000000           348.000000  187.000000  \n",
       "mean     119.683908     637.017241            35.905172    1.871658  \n",
       "std      924.948789    6346.054451           403.423826   10.693411  \n",
       "min        0.000000       0.000000             0.000000    0.000000  \n",
       "25%        6.000000      31.000000             0.000000    0.000000  \n",
       "50%       17.500000      94.000000             2.000000    0.000000  \n",
       "75%       51.250000     287.250000             7.000000    1.000000  \n",
       "max    16606.000000  117931.000000          7434.000000  132.000000  "
      ]
     },
     "execution_count": 257,
     "metadata": {},
     "output_type": "execute_result"
    }
   ],
   "source": [
    "crime.describe()"
   ]
  },
  {
   "cell_type": "code",
   "execution_count": 258,
   "metadata": {},
   "outputs": [],
   "source": [
    "# Removing outlier in property crime\n",
    "crime.loc[crime['Property crime'] == 141971]\n",
    "crime = crime.drop(crime.index[[216]])\n"
   ]
  },
  {
   "cell_type": "code",
   "execution_count": 259,
   "metadata": {},
   "outputs": [],
   "source": [
    "crime = crime.fillna(0)"
   ]
  },
  {
   "cell_type": "code",
   "execution_count": 260,
   "metadata": {},
   "outputs": [],
   "source": [
    "crime = crime.drop(crime.index[[347, 349, 350, 351, 351]])"
   ]
  },
  {
   "cell_type": "code",
   "execution_count": 261,
   "metadata": {},
   "outputs": [],
   "source": [
    "crime = crime.drop(['City', 'Arson3','Violent crime', 'Rape1',\n",
    "           'Rape2', 'Aggravated assualt', 'Burglary', \n",
    "            'Larceny-theft', 'motor vehicle theft' ], axis=1)"
   ]
  },
  {
   "cell_type": "code",
   "execution_count": 262,
   "metadata": {},
   "outputs": [],
   "source": [
    "crime = crime.rename(columns={'Murder and non-negilent manslaughter': 'Murder'})"
   ]
  },
  {
   "cell_type": "code",
   "execution_count": 263,
   "metadata": {},
   "outputs": [],
   "source": [
    "crime['Population2'] = crime['Population']**2"
   ]
  },
  {
   "cell_type": "code",
   "execution_count": 264,
   "metadata": {},
   "outputs": [
    {
     "data": {
      "text/html": [
       "<div>\n",
       "<style scoped>\n",
       "    .dataframe tbody tr th:only-of-type {\n",
       "        vertical-align: middle;\n",
       "    }\n",
       "\n",
       "    .dataframe tbody tr th {\n",
       "        vertical-align: top;\n",
       "    }\n",
       "\n",
       "    .dataframe thead th {\n",
       "        text-align: right;\n",
       "    }\n",
       "</style>\n",
       "<table border=\"1\" class=\"dataframe\">\n",
       "  <thead>\n",
       "    <tr style=\"text-align: right;\">\n",
       "      <th></th>\n",
       "      <th>Population</th>\n",
       "      <th>Murder</th>\n",
       "      <th>Robbery</th>\n",
       "      <th>Property crime</th>\n",
       "      <th>Population2</th>\n",
       "    </tr>\n",
       "  </thead>\n",
       "  <tbody>\n",
       "    <tr>\n",
       "      <th>0</th>\n",
       "      <td>1861.0</td>\n",
       "      <td>0.0</td>\n",
       "      <td>0.0</td>\n",
       "      <td>12.0</td>\n",
       "      <td>3.463321e+06</td>\n",
       "    </tr>\n",
       "    <tr>\n",
       "      <th>1</th>\n",
       "      <td>2577.0</td>\n",
       "      <td>0.0</td>\n",
       "      <td>0.0</td>\n",
       "      <td>24.0</td>\n",
       "      <td>6.640929e+06</td>\n",
       "    </tr>\n",
       "    <tr>\n",
       "      <th>2</th>\n",
       "      <td>2846.0</td>\n",
       "      <td>0.0</td>\n",
       "      <td>0.0</td>\n",
       "      <td>16.0</td>\n",
       "      <td>8.099716e+06</td>\n",
       "    </tr>\n",
       "    <tr>\n",
       "      <th>3</th>\n",
       "      <td>97956.0</td>\n",
       "      <td>8.0</td>\n",
       "      <td>227.0</td>\n",
       "      <td>4090.0</td>\n",
       "      <td>9.595378e+09</td>\n",
       "    </tr>\n",
       "    <tr>\n",
       "      <th>4</th>\n",
       "      <td>6388.0</td>\n",
       "      <td>0.0</td>\n",
       "      <td>4.0</td>\n",
       "      <td>223.0</td>\n",
       "      <td>4.080654e+07</td>\n",
       "    </tr>\n",
       "    <tr>\n",
       "      <th>5</th>\n",
       "      <td>4089.0</td>\n",
       "      <td>0.0</td>\n",
       "      <td>3.0</td>\n",
       "      <td>46.0</td>\n",
       "      <td>1.671992e+07</td>\n",
       "    </tr>\n",
       "    <tr>\n",
       "      <th>6</th>\n",
       "      <td>1781.0</td>\n",
       "      <td>0.0</td>\n",
       "      <td>0.0</td>\n",
       "      <td>10.0</td>\n",
       "      <td>3.171961e+06</td>\n",
       "    </tr>\n",
       "    <tr>\n",
       "      <th>7</th>\n",
       "      <td>118296.0</td>\n",
       "      <td>1.0</td>\n",
       "      <td>31.0</td>\n",
       "      <td>2118.0</td>\n",
       "      <td>1.399394e+10</td>\n",
       "    </tr>\n",
       "    <tr>\n",
       "      <th>8</th>\n",
       "      <td>9519.0</td>\n",
       "      <td>0.0</td>\n",
       "      <td>4.0</td>\n",
       "      <td>210.0</td>\n",
       "      <td>9.061136e+07</td>\n",
       "    </tr>\n",
       "    <tr>\n",
       "      <th>9</th>\n",
       "      <td>18182.0</td>\n",
       "      <td>0.0</td>\n",
       "      <td>12.0</td>\n",
       "      <td>405.0</td>\n",
       "      <td>3.305851e+08</td>\n",
       "    </tr>\n",
       "  </tbody>\n",
       "</table>\n",
       "</div>"
      ],
      "text/plain": [
       "   Population  Murder  Robbery  Property crime   Population2\n",
       "0      1861.0     0.0      0.0            12.0  3.463321e+06\n",
       "1      2577.0     0.0      0.0            24.0  6.640929e+06\n",
       "2      2846.0     0.0      0.0            16.0  8.099716e+06\n",
       "3     97956.0     8.0    227.0          4090.0  9.595378e+09\n",
       "4      6388.0     0.0      4.0           223.0  4.080654e+07\n",
       "5      4089.0     0.0      3.0            46.0  1.671992e+07\n",
       "6      1781.0     0.0      0.0            10.0  3.171961e+06\n",
       "7    118296.0     1.0     31.0          2118.0  1.399394e+10\n",
       "8      9519.0     0.0      4.0           210.0  9.061136e+07\n",
       "9     18182.0     0.0     12.0           405.0  3.305851e+08"
      ]
     },
     "execution_count": 264,
     "metadata": {},
     "output_type": "execute_result"
    }
   ],
   "source": [
    "crime.head(10)"
   ]
  },
  {
   "cell_type": "code",
   "execution_count": 265,
   "metadata": {},
   "outputs": [
    {
     "name": "stdout",
     "output_type": "stream",
     "text": [
      "     Population  Murder  Robbery  Property crime   Population2\n",
      "0        1861.0     0.0      0.0            12.0  3.463321e+06\n",
      "1        2577.0     0.0      0.0            24.0  6.640929e+06\n",
      "2        2846.0     0.0      0.0            16.0  8.099716e+06\n",
      "3       97956.0     1.0      1.0          4090.0  9.595378e+09\n",
      "4        6388.0     0.0      1.0           223.0  4.080654e+07\n",
      "5        4089.0     0.0      1.0            46.0  1.671992e+07\n",
      "6        1781.0     0.0      0.0            10.0  3.171961e+06\n",
      "7      118296.0     1.0      1.0          2118.0  1.399394e+10\n",
      "8        9519.0     0.0      1.0           210.0  9.061136e+07\n",
      "9       18182.0     0.0      1.0           405.0  3.305851e+08\n",
      "10       2053.0     0.0      0.0            39.0  4.214809e+06\n",
      "11       4523.0     0.0      1.0            33.0  2.045753e+07\n",
      "12        658.0     0.0      0.0             2.0  4.329640e+05\n",
      "13       2522.0     0.0      0.0             5.0  6.360484e+06\n",
      "14      27270.0     1.0      1.0           859.0  7.436529e+08\n",
      "15       3333.0     0.0      1.0            25.0  1.110889e+07\n",
      "16       7473.0     0.0      1.0            88.0  5.584573e+07\n",
      "17       5418.0     0.0      1.0            94.0  2.935472e+07\n",
      "18      15374.0     0.0      1.0           559.0  2.363599e+08\n",
      "19       5733.0     0.0      1.0           191.0  3.286729e+07\n",
      "20      17627.0     0.0      1.0           156.0  3.107111e+08\n",
      "21      34243.0     0.0      1.0           442.0  1.172583e+09\n",
      "22      46304.0     1.0      1.0          2349.0  2.144060e+09\n",
      "23       1410.0     0.0      0.0            14.0  1.988100e+06\n",
      "24      12001.0     0.0      0.0            99.0  1.440240e+08\n",
      "25       1022.0     0.0      0.0             4.0  1.044484e+06\n",
      "26       2325.0     0.0      0.0            24.0  5.405625e+06\n",
      "27       2054.0     0.0      0.0            20.0  4.218916e+06\n",
      "28       2065.0     0.0      1.0            31.0  4.264225e+06\n",
      "29       2358.0     0.0      0.0            13.0  5.560164e+06\n",
      "..          ...     ...      ...             ...           ...\n",
      "319       615.0     0.0      0.0             0.0  3.782250e+05\n",
      "320     12195.0     0.0      1.0           437.0  1.487180e+08\n",
      "321     61686.0     1.0      1.0          2528.0  3.805163e+09\n",
      "322     27980.0     0.0      1.0           571.0  7.828804e+08\n",
      "323      6887.0     1.0      1.0           142.0  4.743077e+07\n",
      "324     27940.0     0.0      1.0           767.0  7.806436e+08\n",
      "325      3012.0     0.0      0.0            68.0  9.072144e+06\n",
      "326      3453.0     0.0      0.0            78.0  1.192321e+07\n",
      "327      5828.0     0.0      1.0            58.0  3.396558e+07\n",
      "328      8392.0     0.0      0.0            59.0  7.042566e+07\n",
      "329      5175.0     0.0      1.0           194.0  2.678062e+07\n",
      "330     28179.0     0.0      1.0          1165.0  7.940560e+08\n",
      "331     10245.0     1.0      1.0           242.0  1.049600e+08\n",
      "332      1862.0     0.0      0.0            92.0  3.467044e+06\n",
      "333      4337.0     0.0      1.0            54.0  1.880957e+07\n",
      "334     43777.0     0.0      1.0           469.0  1.916426e+09\n",
      "335      1797.0     0.0      0.0            25.0  3.229209e+06\n",
      "336      4574.0     0.0      0.0           164.0  2.092148e+07\n",
      "337      1732.0     0.0      0.0            44.0  2.999824e+06\n",
      "338     44821.0     1.0      1.0           896.0  2.008922e+09\n",
      "339      2604.0     0.0      0.0            62.0  6.780816e+06\n",
      "340     57559.0     1.0      1.0          1232.0  3.313038e+09\n",
      "341      3733.0     0.0      0.0            36.0  1.393529e+07\n",
      "342      9141.0     0.0      0.0            77.0  8.355788e+07\n",
      "343     10685.0     0.0      1.0           541.0  1.141692e+08\n",
      "344       829.0     0.0      0.0            17.0  6.872410e+05\n",
      "345      5931.0     0.0      0.0            58.0  3.517676e+07\n",
      "346    199134.0     1.0      1.0          2368.0  3.965435e+10\n",
      "347     36643.0     0.0      1.0           334.0  1.342709e+09\n",
      "349         0.0     0.0      0.0             0.0  0.000000e+00\n",
      "\n",
      "[348 rows x 5 columns]\n"
     ]
    }
   ],
   "source": [
    "# converting murder and robbery to 0 and 1 values categorical\n",
    "Murder = np.array(crime['Murder'].values.tolist())\n",
    "Robbery  = np.array(crime['Robbery'].values.tolist())\n",
    "\n",
    "crime['Murder'] = np.where(Murder > 0, 1, Murder).tolist()\n",
    "crime['Robbery'] = np.where(Robbery > 0, 1, Robbery).tolist()\n",
    "\n",
    "print(crime)"
   ]
  },
  {
   "cell_type": "code",
   "execution_count": 277,
   "metadata": {},
   "outputs": [
    {
     "data": {
      "text/plain": [
       "LinearRegression(copy_X=True, fit_intercept=True, n_jobs=1, normalize=False)"
      ]
     },
     "execution_count": 277,
     "metadata": {},
     "output_type": "execute_result"
    }
   ],
   "source": [
    "x = crime.drop('Property crime', axis=1)\n",
    "\n",
    "regr = linear_model.LinearRegression()\n",
    "regr"
   ]
  },
  {
   "cell_type": "code",
   "execution_count": 278,
   "metadata": {},
   "outputs": [
    {
     "data": {
      "text/plain": [
       "LinearRegression(copy_X=True, fit_intercept=True, n_jobs=1, normalize=False)"
      ]
     },
     "execution_count": 278,
     "metadata": {},
     "output_type": "execute_result"
    }
   ],
   "source": [
    "regr.fit(x, crime['Property crime'])"
   ]
  },
  {
   "cell_type": "code",
   "execution_count": 279,
   "metadata": {},
   "outputs": [
    {
     "name": "stdout",
     "output_type": "stream",
     "text": [
      "Estimated intercept coefficients: -16.687279067037935\n"
     ]
    }
   ],
   "source": [
    "print ('Estimated intercept coefficients:', regr.intercept_)"
   ]
  },
  {
   "cell_type": "code",
   "execution_count": 280,
   "metadata": {},
   "outputs": [
    {
     "name": "stdout",
     "output_type": "stream",
     "text": [
      "Number of coefficients: 4\n"
     ]
    }
   ],
   "source": [
    "print ('Number of coefficients:', len(regr.coef_))"
   ]
  },
  {
   "cell_type": "code",
   "execution_count": 283,
   "metadata": {},
   "outputs": [
    {
     "data": {
      "text/plain": [
       "0.8445553070731223"
      ]
     },
     "execution_count": 283,
     "metadata": {},
     "output_type": "execute_result"
    }
   ],
   "source": [
    "regr.score(x, crime['Property crime'])"
   ]
  },
  {
   "cell_type": "code",
   "execution_count": 327,
   "metadata": {},
   "outputs": [
    {
     "data": {
      "image/png": "[encoded data removed]",
      "text/plain": [
       "<Figure size 432x288 with 1 Axes>"
      ]
     },
     "metadata": {},
     "output_type": "display_data"
    }
   ],
   "source": [
    "plt.scatter(crime['Property crime'], regr.predict(x))\n",
    "plt.plot(regr.predict(x), crime['Property crime'], color='blue')\n",
    "plt.show()\n"
   ]
  },
  {
   "cell_type": "code",
   "execution_count": 328,
   "metadata": {},
   "outputs": [
    {
     "name": "stdout",
     "output_type": "stream",
     "text": [
      "(233, 4)\n",
      "(115, 4)\n",
      "(233,)\n",
      "(115,)\n"
     ]
    }
   ],
   "source": [
    "x_train, x_test, y_train, y_test = sklearn.model_selection.train_test_split(\n",
    "    x, crime['Property crime'] ,test_size=0.33, random_state = 5)\n",
    "\n",
    "print (x_train.shape)\n",
    "print (x_test.shape)\n",
    "print (y_train.shape)\n",
    "print (y_test.shape)"
   ]
  },
  {
   "cell_type": "code",
   "execution_count": 329,
   "metadata": {},
   "outputs": [],
   "source": [
    "lm = LinearRegression()\n",
    "lm.fit(x_train, y_train)\n",
    "pred_train = lm.predict(x_train)\n",
    "pred_test = lm.predict(x_test)"
   ]
  },
  {
   "cell_type": "code",
   "execution_count": 330,
   "metadata": {},
   "outputs": [
    {
     "name": "stdout",
     "output_type": "stream",
     "text": [
      "Fit a model X_train, and calculate MSE with y_train: 74930.6392506038\n",
      "Fit a model X_train, and calculate MSE with X_test, y_test: 420721.4785629416\n"
     ]
    }
   ],
   "source": [
    "print ('Fit a model X_train, and calculate MSE with y_train:', np.mean((y_train - lm.predict(x_train)) ** 2))\n",
    "print ('Fit a model X_train, and calculate MSE with X_test, y_test:', np.mean((y_test - lm.predict(x_test)) ** 2))"
   ]
  },
  {
   "cell_type": "code",
   "execution_count": 343,
   "metadata": {},
   "outputs": [
    {
     "data": {
      "text/plain": [
       "Text(0,0.5,'Residuals')"
      ]
     },
     "execution_count": 343,
     "metadata": {},
     "output_type": "execute_result"
    },
    {
     "data": {
      "image/png": "[encoded data removed]",
      "text/plain": [
       "<Figure size 432x288 with 1 Axes>"
      ]
     },
     "metadata": {},
     "output_type": "display_data"
    }
   ],
   "source": [
    "train_residuals = (lm.predict(x_train), lm.predict(x_train) - y_train)\n",
    "test_residuals = (lm.predict(x_test), lm.predict(x_test) - y_test)\n",
    "plt.hist(train_residuals)\n",
    "plt.title('Residual Plot of Training Data')\n",
    "plt.ylabel('Residuals')"
   ]
  },
  {
   "cell_type": "code",
   "execution_count": 344,
   "metadata": {},
   "outputs": [
    {
     "data": {
      "text/plain": [
       "Text(0.5,1,'Residual Plot of Test Data')"
      ]
     },
     "execution_count": 344,
     "metadata": {},
     "output_type": "execute_result"
    },
    {
     "data": {
      "image/png": "[encoded data removed]",
      "text/plain": [
       "<Figure size 432x288 with 1 Axes>"
      ]
     },
     "metadata": {},
     "output_type": "display_data"
    }
   ],
   "source": [
    "plt.hist(test_residuals)\n",
    "plt.title('Residual Plot of Test Data')"
   ]
  },
  {
   "cell_type": "code",
   "execution_count": 346,
   "metadata": {},
   "outputs": [
    {
     "data": {
      "text/html": [
       "<div>\n",
       "<style scoped>\n",
       "    .dataframe tbody tr th:only-of-type {\n",
       "        vertical-align: middle;\n",
       "    }\n",
       "\n",
       "    .dataframe tbody tr th {\n",
       "        vertical-align: top;\n",
       "    }\n",
       "\n",
       "    .dataframe thead th {\n",
       "        text-align: right;\n",
       "    }\n",
       "</style>\n",
       "<table border=\"1\" class=\"dataframe\">\n",
       "  <thead>\n",
       "    <tr style=\"text-align: right;\">\n",
       "      <th></th>\n",
       "      <th>Population</th>\n",
       "      <th>Murder</th>\n",
       "      <th>Robbery</th>\n",
       "      <th>Population2</th>\n",
       "    </tr>\n",
       "  </thead>\n",
       "  <tbody>\n",
       "    <tr>\n",
       "      <th>Population</th>\n",
       "      <td>1.000000</td>\n",
       "      <td>0.503024</td>\n",
       "      <td>0.345506</td>\n",
       "      <td>0.888419</td>\n",
       "    </tr>\n",
       "    <tr>\n",
       "      <th>Murder</th>\n",
       "      <td>0.503024</td>\n",
       "      <td>1.000000</td>\n",
       "      <td>0.311171</td>\n",
       "      <td>0.344999</td>\n",
       "    </tr>\n",
       "    <tr>\n",
       "      <th>Robbery</th>\n",
       "      <td>0.345506</td>\n",
       "      <td>0.311171</td>\n",
       "      <td>1.000000</td>\n",
       "      <td>0.152637</td>\n",
       "    </tr>\n",
       "    <tr>\n",
       "      <th>Population2</th>\n",
       "      <td>0.888419</td>\n",
       "      <td>0.344999</td>\n",
       "      <td>0.152637</td>\n",
       "      <td>1.000000</td>\n",
       "    </tr>\n",
       "  </tbody>\n",
       "</table>\n",
       "</div>"
      ],
      "text/plain": [
       "             Population    Murder   Robbery  Population2\n",
       "Population     1.000000  0.503024  0.345506     0.888419\n",
       "Murder         0.503024  1.000000  0.311171     0.344999\n",
       "Robbery        0.345506  0.311171  1.000000     0.152637\n",
       "Population2    0.888419  0.344999  0.152637     1.000000"
      ]
     },
     "metadata": {},
     "output_type": "display_data"
    }
   ],
   "source": [
    "correlation_matrix = x.corr()\n",
    "display(correlation_matrix)"
   ]
  },
  {
   "cell_type": "code",
   "execution_count": null,
   "metadata": {},
   "outputs": [],
   "source": []
  }
 ],
 "metadata": {
  "kernelspec": {
   "display_name": "Python 3",
   "language": "python",
   "name": "python3"
  },
  "language_info": {
   "codemirror_mode": {
    "name": "ipython",
    "version": 3
   },
   "file_extension": ".py",
   "mimetype": "text/x-python",
   "name": "python",
   "nbconvert_exporter": "python",
   "pygments_lexer": "ipython3",
   "version": "3.6.5"
  }
 },
 "nbformat": 4,
 "nbformat_minor": 2
}
