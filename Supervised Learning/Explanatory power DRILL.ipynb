{
 "cells": [
  {
   "cell_type": "markdown",
   "metadata": {},
   "source": [
    "#### Linear Relationship\n",
    "\n",
    "Features in the regression need to have a linear relationship with the outcome otherwise it will create a poor model. Transforming a non-linear relationship can fix the problem, say if feature and outcome have a expontial relationship, then by taking the sqrt they will have a linear relationship.\n",
    "\n",
    "#### Multivariate Normality\n",
    "\n",
    "Error in a model should be normally distributed. Skewness and outliers can lead to serious miss estimations.\n",
    "\n",
    "#### Homoscedasticity\n",
    "\n",
    "Distribution of error terms should be consistent for all predicted values. If error terms are not consistently distributed and there is more variance in the error for large outcome variables than for small ones, then the confidence interval for the large predicted values will be too small because it will be based on the average error variance. This leads to overconfidence on the accuracy of a models prediction.\n",
    "\n",
    "Can be fixed by transforming the dependent variable and adding features that target the poorly estimated areas.\n",
    "\n",
    "#### Low Multicollinearity\n",
    "\n",
    "Correlations among features should be low or nonexistent. If features are correlated then they might explained the same pattern of variance in the outcome. This causes us to underextimate the relationship between the features and the outcomes."
   ]
  },
  {
   "cell_type": "code",
   "execution_count": null,
   "metadata": {},
   "outputs": [],
   "source": []
  }
 ],
 "metadata": {
  "kernelspec": {
   "display_name": "Python 3",
   "language": "python",
   "name": "python3"
  },
  "language_info": {
   "codemirror_mode": {
    "name": "ipython",
    "version": 3
   },
   "file_extension": ".py",
   "mimetype": "text/x-python",
   "name": "python",
   "nbconvert_exporter": "python",
   "pygments_lexer": "ipython3",
   "version": "3.6.5"
  }
 },
 "nbformat": 4,
 "nbformat_minor": 2
}
