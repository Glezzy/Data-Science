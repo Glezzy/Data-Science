{
 "cells": [
  {
   "cell_type": "markdown",
   "metadata": {},
   "source": [
    "1. This is a bad question because it can be answered with simple statistics. A better question would be, \"What can we do to lower the juvenile delinquency rate in the US.\"\n",
    "\n",
    "2. Good \n",
    "\n",
    "3. Good\n",
    "\n",
    "4. Bad, a better question is, \"How can we increase our consumer base in Washington, DC?\" Assuming it's from the perspective of AT&T.\n",
    "\n",
    "5. Good\n",
    "\n",
    "6. Good\n",
    "\n",
    "7. Bad, this can be answered by previous analysis into why it crashed. Better question would be, \"How can we improve shuttles so that the events of the Challenger crash don't repeat?\"\n",
    "\n",
    "8. Bad, can be answered with simple stats. Better question would be, \"How can we better predict which genes increase the risk of breast cancer?\"\n",
    "\n",
    "9. Good\n",
    "\n",
    "10. Bad, can be explained and hard to test. Better question would be, \"What can we do to improve Google's search algorithm?\" (it's pretty good alreadys)"
   ]
  }
 ],
 "metadata": {
  "kernelspec": {
   "display_name": "Python 3",
   "language": "python",
   "name": "python3"
  },
  "language_info": {
   "codemirror_mode": {
    "name": "ipython",
    "version": 3
   },
   "file_extension": ".py",
   "mimetype": "text/x-python",
   "name": "python",
   "nbconvert_exporter": "python",
   "pygments_lexer": "ipython3",
   "version": "3.6.4"
  }
 },
 "nbformat": 4,
 "nbformat_minor": 2
}
