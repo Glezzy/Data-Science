{
 "cells": [
  {
   "cell_type": "markdown",
   "metadata": {},
   "source": [
    "\n",
    "    1) Predict the running times of prospective Olympic sprinters using data from the last 20 Olympics.\n",
    "    \n",
    "    Multiple Regression since the data would be time series.\n",
    "    \n",
    "    2) You have more features (columns) than rows in your dataset.\n",
    "    \n",
    "    I would use PCA or SVD to reduce dimensions. I would most likely use Random Forest or a combo of ensemble modeling. \n",
    "    \n",
    "    3) Identify the most important characteristic predicting likelihood of being jailed before age 20.\n",
    "    \n",
    "    By using Support Vector machines you can find what factors would most likely lead to being jailed before age 20.\n",
    "    \n",
    "    \n",
    "    4)Implement a filter to “highlight” emails that might be important to the recipient.\n",
    "    \n",
    "    Naive Bayes would work well for this task.\n",
    "    \n",
    "    5)You have 1000+ features.\n",
    "    \n",
    "    LASSO regression worls well when there is many features. \n",
    "    \n",
    "    6)Predict whether someone who adds items to their cart on a website will purchase the items.\n",
    "    \n",
    "    Decision tress or Random forest. Boosting models would also work well.\n",
    "    \n",
    "    7)Your dataset dimensions are 982400 x 500\n",
    "    \n",
    "    You would want to use PCA or SVD to reduce dimensionality. Then use standard vector machines with the kernel trick to find the result.\n",
    "    \n",
    "    8)Identify faces in an image.\n",
    "    \n",
    "    Using neural networks would be best.. A combination of boosting models, such as random forests and ensemble modeling.\n",
    "    \n",
    "    \n",
    "    9)Predict which of three flavors of ice cream will be most popular with boys vs girls.\n",
    "    \n",
    "     A combination of ridge regression and decision trees would be the best approach.\n",
    "    \n",
    "    \n"
   ]
  },
  {
   "cell_type": "code",
   "execution_count": null,
   "metadata": {},
   "outputs": [],
   "source": []
  }
 ],
 "metadata": {
  "kernelspec": {
   "display_name": "Python 3",
   "language": "python",
   "name": "python3"
  },
  "language_info": {
   "codemirror_mode": {
    "name": "ipython",
    "version": 3
   },
   "file_extension": ".py",
   "mimetype": "text/x-python",
   "name": "python",
   "nbconvert_exporter": "python",
   "pygments_lexer": "ipython3",
   "version": "3.6.5"
  }
 },
 "nbformat": 4,
 "nbformat_minor": 2
}
