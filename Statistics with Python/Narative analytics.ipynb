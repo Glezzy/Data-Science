{
 "cells": [
  {
   "cell_type": "code",
   "execution_count": 1,
   "metadata": {},
   "outputs": [],
   "source": [
    "# Idea is to tell a story with data."
   ]
  },
  {
   "cell_type": "code",
   "execution_count": 2,
   "metadata": {},
   "outputs": [],
   "source": [
    "# For example, \"the furniture store the sales where $20,502\".\n",
    "# There is not very much context and possibly only the store owner\n",
    "# can put some meaning behind that number.'\n",
    "\n",
    "# \"Sales last week were $20,502, down 1% from last week.\"\n",
    "\n",
    "# There is more information here but still doesn't give us much information."
   ]
  },
  {
   "cell_type": "code",
   "execution_count": 3,
   "metadata": {},
   "outputs": [],
   "source": [
    "# Like above, most answers will be only part of the picture. Even if we had\n",
    "# the sales of the furniture store from the past 2 years, you'll most likely \n",
    "# not compare them to last years average."
   ]
  },
  {
   "cell_type": "code",
   "execution_count": 4,
   "metadata": {},
   "outputs": [],
   "source": [
    "# Tell the best story you can with the data you collected"
   ]
  },
  {
   "cell_type": "code",
   "execution_count": null,
   "metadata": {},
   "outputs": [],
   "source": [
    "# Being able to make a good visual is one of the most important skills a \n",
    "# data scentist can have.\n"
   ]
  }
 ],
 "metadata": {
  "kernelspec": {
   "display_name": "Python 3",
   "language": "python",
   "name": "python3"
  },
  "language_info": {
   "codemirror_mode": {
    "name": "ipython",
    "version": 3
   },
   "file_extension": ".py",
   "mimetype": "text/x-python",
   "name": "python",
   "nbconvert_exporter": "python",
   "pygments_lexer": "ipython3",
   "version": "3.6.4"
  }
 },
 "nbformat": 4,
 "nbformat_minor": 2
}
