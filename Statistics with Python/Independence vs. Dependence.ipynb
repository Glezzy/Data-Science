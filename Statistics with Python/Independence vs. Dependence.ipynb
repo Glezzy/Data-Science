{
 "cells": [
  {
   "cell_type": "code",
   "execution_count": null,
   "metadata": {},
   "outputs": [],
   "source": [
    "P(red) = 1/2\n",
    "\n",
    "P(red) = P(blue) = 1/2\n",
    "\n",
    "P(red then blue) = P(red) * P(blue) = 1/2 * 1/2 = 1/4 "
   ]
  },
  {
   "cell_type": "code",
   "execution_count": null,
   "metadata": {},
   "outputs": [],
   "source": [
    "# BAYES' RULE\n",
    "\n",
    "P(A | B) = P(B | A) * P(A) / P(B)\n",
    "\n",
    "OR\n",
    "\n",
    "P(A | B) = P(B | A) * P(A) / [P(A)*P(B|A) + P(A~)*P(B|A~)]\n",
    "\n",
    "# In English, this formula says the probability of A given B equals the \n",
    "# probability of B given A, times the probability of A, divided by the \n",
    "# probability of B. We expand the probability of B in the second formula \n",
    "# where A~ is the inverse of A, so in our case not being infected. \n",
    "# The numerator is our scenario of interest, while the denominator \n",
    "# represents the realm of scenarios that could give our condition."
   ]
  }
 ],
 "metadata": {
  "kernelspec": {
   "display_name": "Python 3",
   "language": "python",
   "name": "python3"
  },
  "language_info": {
   "codemirror_mode": {
    "name": "ipython",
    "version": 3
   },
   "file_extension": ".py",
   "mimetype": "text/x-python",
   "name": "python",
   "nbconvert_exporter": "python",
   "pygments_lexer": "ipython3",
   "version": "3.6.4"
  }
 },
 "nbformat": 4,
 "nbformat_minor": 2
}
